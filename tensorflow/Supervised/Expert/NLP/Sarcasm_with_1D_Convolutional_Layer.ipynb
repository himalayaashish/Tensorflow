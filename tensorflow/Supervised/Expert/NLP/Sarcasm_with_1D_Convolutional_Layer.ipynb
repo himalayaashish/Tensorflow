{
  "nbformat": 4,
  "nbformat_minor": 0,
  "metadata": {
    "colab": {
      "name": "Sarcasm with 1D Convolutional Layer.ipynb",
      "provenance": []
    },
    "kernelspec": {
      "name": "python3",
      "display_name": "Python 3"
    },
    "language_info": {
      "name": "python"
    }
  },
  "cells": [
    {
      "cell_type": "code",
      "metadata": {
        "colab": {
          "base_uri": "https://localhost:8080/"
        },
        "id": "9vB-x2lzMK_h",
        "outputId": "9740b839-c041-4f18-e274-3a3a032b394f"
      },
      "source": [
        "import numpy as np\n",
        "\n",
        "import json\n",
        "import tensorflow as tf\n",
        "\n",
        "from tensorflow.keras.preprocessing.text import Tokenizer\n",
        "from tensorflow.keras.preprocessing.sequence import pad_sequences\n",
        "\n",
        "!wget --no-check-certificate \\\n",
        "    https://storage.googleapis.com/laurencemoroney-blog.appspot.com/sarcasm.json \\\n",
        "    -O /tmp/sarcasm.json\n",
        "\n",
        "vocab_size = 1000\n",
        "embedding_dim = 16\n",
        "max_length = 120\n",
        "trunc_type='post'\n",
        "padding_type='post'\n",
        "oov_tok = \"<OOV>\"\n",
        "training_size = 20000\n",
        "\n",
        "\n",
        "with open(\"/tmp/sarcasm.json\", 'r') as f:\n",
        "    datastore = json.load(f)\n",
        "\n",
        "\n",
        "sentences = []\n",
        "labels = []\n",
        "urls = []\n",
        "for item in datastore:\n",
        "    sentences.append(item['headline'])\n",
        "    labels.append(item['is_sarcastic'])\n",
        "\n",
        "training_sentences = sentences[0:training_size]\n",
        "testing_sentences = sentences[training_size:]\n",
        "training_labels = labels[0:training_size]\n",
        "testing_labels = labels[training_size:]\n",
        "\n",
        "tokenizer = Tokenizer(num_words=vocab_size, oov_token=oov_tok)\n",
        "tokenizer.fit_on_texts(training_sentences)\n",
        "\n",
        "word_index = tokenizer.word_index\n",
        "\n",
        "training_sequences = tokenizer.texts_to_sequences(training_sentences)\n",
        "training_padded = pad_sequences(training_sequences, maxlen=max_length, padding=padding_type, truncating=trunc_type)\n",
        "\n",
        "testing_sequences = tokenizer.texts_to_sequences(testing_sentences)\n",
        "testing_padded = pad_sequences(testing_sequences, maxlen=max_length, padding=padding_type, truncating=trunc_type)\n",
        "\n",
        "model = tf.keras.Sequential([\n",
        "    tf.keras.layers.Embedding(vocab_size, embedding_dim, input_length=max_length),\n",
        "    tf.keras.layers.Conv1D(128, 5, activation='relu'),\n",
        "    tf.keras.layers.GlobalMaxPooling1D(),\n",
        "    tf.keras.layers.Dense(24, activation='relu'),\n",
        "    tf.keras.layers.Dense(1, activation='sigmoid')\n",
        "])\n",
        "model.compile(loss='binary_crossentropy',optimizer='adam',metrics=['accuracy'])\n",
        "model.summary()\n",
        "\n",
        "num_epochs = 50\n",
        "\n",
        "training_padded = np.array(training_padded)\n",
        "training_labels = np.array(training_labels)\n",
        "testing_padded = np.array(testing_padded)\n",
        "testing_labels = np.array(testing_labels)\n",
        "\n",
        "history = model.fit(training_padded, training_labels, epochs=num_epochs, validation_data=(testing_padded, testing_labels), verbose=1)\n"
      ],
      "execution_count": 1,
      "outputs": [
        {
          "output_type": "stream",
          "text": [
            "--2021-03-18 21:21:27--  https://storage.googleapis.com/laurencemoroney-blog.appspot.com/sarcasm.json\n",
            "Resolving storage.googleapis.com (storage.googleapis.com)... 108.177.126.128, 173.194.79.128, 108.177.119.128, ...\n",
            "Connecting to storage.googleapis.com (storage.googleapis.com)|108.177.126.128|:443... connected.\n",
            "HTTP request sent, awaiting response... 200 OK\n",
            "Length: 5643545 (5.4M) [application/json]\n",
            "Saving to: ‘/tmp/sarcasm.json’\n",
            "\n",
            "/tmp/sarcasm.json   100%[===================>]   5.38M  --.-KB/s    in 0.05s   \n",
            "\n",
            "2021-03-18 21:21:28 (105 MB/s) - ‘/tmp/sarcasm.json’ saved [5643545/5643545]\n",
            "\n",
            "Model: \"sequential\"\n",
            "_________________________________________________________________\n",
            "Layer (type)                 Output Shape              Param #   \n",
            "=================================================================\n",
            "embedding (Embedding)        (None, 120, 16)           16000     \n",
            "_________________________________________________________________\n",
            "conv1d (Conv1D)              (None, 116, 128)          10368     \n",
            "_________________________________________________________________\n",
            "global_max_pooling1d (Global (None, 128)               0         \n",
            "_________________________________________________________________\n",
            "dense (Dense)                (None, 24)                3096      \n",
            "_________________________________________________________________\n",
            "dense_1 (Dense)              (None, 1)                 25        \n",
            "=================================================================\n",
            "Total params: 29,489\n",
            "Trainable params: 29,489\n",
            "Non-trainable params: 0\n",
            "_________________________________________________________________\n",
            "Epoch 1/50\n",
            "625/625 [==============================] - 9s 13ms/step - loss: 0.5557 - accuracy: 0.6869 - val_loss: 0.4087 - val_accuracy: 0.8143\n",
            "Epoch 2/50\n",
            "625/625 [==============================] - 7s 12ms/step - loss: 0.3591 - accuracy: 0.8369 - val_loss: 0.3936 - val_accuracy: 0.8210\n",
            "Epoch 3/50\n",
            "625/625 [==============================] - 7s 12ms/step - loss: 0.3063 - accuracy: 0.8652 - val_loss: 0.3956 - val_accuracy: 0.8190\n",
            "Epoch 4/50\n",
            "625/625 [==============================] - 7s 12ms/step - loss: 0.2727 - accuracy: 0.8859 - val_loss: 0.4162 - val_accuracy: 0.8195\n",
            "Epoch 5/50\n",
            "625/625 [==============================] - 7s 12ms/step - loss: 0.2317 - accuracy: 0.9053 - val_loss: 0.4401 - val_accuracy: 0.8146\n",
            "Epoch 6/50\n",
            "625/625 [==============================] - 7s 12ms/step - loss: 0.2013 - accuracy: 0.9196 - val_loss: 0.4876 - val_accuracy: 0.8141\n",
            "Epoch 7/50\n",
            "625/625 [==============================] - 7s 12ms/step - loss: 0.1634 - accuracy: 0.9369 - val_loss: 0.5678 - val_accuracy: 0.8013\n",
            "Epoch 8/50\n",
            "625/625 [==============================] - 8s 12ms/step - loss: 0.1430 - accuracy: 0.9462 - val_loss: 0.5892 - val_accuracy: 0.7983\n",
            "Epoch 9/50\n",
            "625/625 [==============================] - 8s 12ms/step - loss: 0.1166 - accuracy: 0.9581 - val_loss: 0.6735 - val_accuracy: 0.8006\n",
            "Epoch 10/50\n",
            "625/625 [==============================] - 7s 12ms/step - loss: 0.0899 - accuracy: 0.9703 - val_loss: 0.7290 - val_accuracy: 0.7939\n",
            "Epoch 11/50\n",
            "625/625 [==============================] - 7s 12ms/step - loss: 0.0783 - accuracy: 0.9756 - val_loss: 0.8174 - val_accuracy: 0.8010\n",
            "Epoch 12/50\n",
            "625/625 [==============================] - 8s 12ms/step - loss: 0.0672 - accuracy: 0.9784 - val_loss: 0.9145 - val_accuracy: 0.7925\n",
            "Epoch 13/50\n",
            "625/625 [==============================] - 7s 12ms/step - loss: 0.0570 - accuracy: 0.9799 - val_loss: 1.0194 - val_accuracy: 0.7913\n",
            "Epoch 14/50\n",
            "625/625 [==============================] - 7s 12ms/step - loss: 0.0532 - accuracy: 0.9816 - val_loss: 1.0932 - val_accuracy: 0.7885\n",
            "Epoch 15/50\n",
            "625/625 [==============================] - 7s 12ms/step - loss: 0.0445 - accuracy: 0.9849 - val_loss: 1.1337 - val_accuracy: 0.7959\n",
            "Epoch 16/50\n",
            "625/625 [==============================] - 8s 12ms/step - loss: 0.0420 - accuracy: 0.9847 - val_loss: 1.2051 - val_accuracy: 0.7873\n",
            "Epoch 17/50\n",
            "625/625 [==============================] - 7s 12ms/step - loss: 0.0416 - accuracy: 0.9857 - val_loss: 1.3460 - val_accuracy: 0.7900\n",
            "Epoch 18/50\n",
            "625/625 [==============================] - 7s 12ms/step - loss: 0.0365 - accuracy: 0.9869 - val_loss: 1.4593 - val_accuracy: 0.7845\n",
            "Epoch 19/50\n",
            "625/625 [==============================] - 7s 12ms/step - loss: 0.0393 - accuracy: 0.9849 - val_loss: 1.4661 - val_accuracy: 0.7839\n",
            "Epoch 20/50\n",
            "625/625 [==============================] - 7s 12ms/step - loss: 0.0322 - accuracy: 0.9876 - val_loss: 1.4251 - val_accuracy: 0.7864\n",
            "Epoch 21/50\n",
            "625/625 [==============================] - 8s 12ms/step - loss: 0.0320 - accuracy: 0.9883 - val_loss: 1.5549 - val_accuracy: 0.7815\n",
            "Epoch 22/50\n",
            "625/625 [==============================] - 7s 12ms/step - loss: 0.0273 - accuracy: 0.9893 - val_loss: 1.5823 - val_accuracy: 0.7863\n",
            "Epoch 23/50\n",
            "625/625 [==============================] - 7s 12ms/step - loss: 0.0288 - accuracy: 0.9887 - val_loss: 1.7208 - val_accuracy: 0.7773\n",
            "Epoch 24/50\n",
            "625/625 [==============================] - 7s 12ms/step - loss: 0.0322 - accuracy: 0.9875 - val_loss: 1.7687 - val_accuracy: 0.7819\n",
            "Epoch 25/50\n",
            "625/625 [==============================] - 7s 12ms/step - loss: 0.0255 - accuracy: 0.9907 - val_loss: 1.6961 - val_accuracy: 0.7837\n",
            "Epoch 26/50\n",
            "625/625 [==============================] - 8s 12ms/step - loss: 0.0217 - accuracy: 0.9904 - val_loss: 1.8415 - val_accuracy: 0.7824\n",
            "Epoch 27/50\n",
            "625/625 [==============================] - 7s 12ms/step - loss: 0.0248 - accuracy: 0.9898 - val_loss: 1.7680 - val_accuracy: 0.7872\n",
            "Epoch 28/50\n",
            "625/625 [==============================] - 7s 12ms/step - loss: 0.0280 - accuracy: 0.9884 - val_loss: 1.7583 - val_accuracy: 0.7849\n",
            "Epoch 29/50\n",
            "625/625 [==============================] - 7s 12ms/step - loss: 0.0271 - accuracy: 0.9890 - val_loss: 1.9469 - val_accuracy: 0.7761\n",
            "Epoch 30/50\n",
            "625/625 [==============================] - 7s 12ms/step - loss: 0.0248 - accuracy: 0.9897 - val_loss: 1.9735 - val_accuracy: 0.7928\n",
            "Epoch 31/50\n",
            "625/625 [==============================] - 7s 12ms/step - loss: 0.0269 - accuracy: 0.9882 - val_loss: 1.9096 - val_accuracy: 0.7858\n",
            "Epoch 32/50\n",
            "625/625 [==============================] - 7s 12ms/step - loss: 0.0245 - accuracy: 0.9898 - val_loss: 2.0058 - val_accuracy: 0.7866\n",
            "Epoch 33/50\n",
            "625/625 [==============================] - 7s 12ms/step - loss: 0.0263 - accuracy: 0.9888 - val_loss: 1.9496 - val_accuracy: 0.7864\n",
            "Epoch 34/50\n",
            "625/625 [==============================] - 8s 12ms/step - loss: 0.0218 - accuracy: 0.9908 - val_loss: 1.9865 - val_accuracy: 0.7889\n",
            "Epoch 35/50\n",
            "625/625 [==============================] - 8s 12ms/step - loss: 0.0214 - accuracy: 0.9911 - val_loss: 2.1413 - val_accuracy: 0.7892\n",
            "Epoch 36/50\n",
            "625/625 [==============================] - 8s 12ms/step - loss: 0.0231 - accuracy: 0.9906 - val_loss: 2.0789 - val_accuracy: 0.7819\n",
            "Epoch 37/50\n",
            "625/625 [==============================] - 8s 12ms/step - loss: 0.0194 - accuracy: 0.9926 - val_loss: 2.1825 - val_accuracy: 0.7919\n",
            "Epoch 38/50\n",
            "625/625 [==============================] - 8s 12ms/step - loss: 0.0185 - accuracy: 0.9917 - val_loss: 2.1173 - val_accuracy: 0.7845\n",
            "Epoch 39/50\n",
            "625/625 [==============================] - 8s 12ms/step - loss: 0.0187 - accuracy: 0.9918 - val_loss: 2.2294 - val_accuracy: 0.7883\n",
            "Epoch 40/50\n",
            "625/625 [==============================] - 7s 12ms/step - loss: 0.0186 - accuracy: 0.9919 - val_loss: 2.4806 - val_accuracy: 0.7825\n",
            "Epoch 41/50\n",
            "625/625 [==============================] - 8s 12ms/step - loss: 0.0265 - accuracy: 0.9895 - val_loss: 2.1784 - val_accuracy: 0.7795\n",
            "Epoch 42/50\n",
            "625/625 [==============================] - 8s 12ms/step - loss: 0.0251 - accuracy: 0.9892 - val_loss: 2.2745 - val_accuracy: 0.7809\n",
            "Epoch 43/50\n",
            "625/625 [==============================] - 8s 12ms/step - loss: 0.0208 - accuracy: 0.9902 - val_loss: 2.2958 - val_accuracy: 0.7815\n",
            "Epoch 44/50\n",
            "625/625 [==============================] - 8s 12ms/step - loss: 0.0164 - accuracy: 0.9934 - val_loss: 2.4870 - val_accuracy: 0.7897\n",
            "Epoch 45/50\n",
            "625/625 [==============================] - 7s 12ms/step - loss: 0.0161 - accuracy: 0.9927 - val_loss: 2.5156 - val_accuracy: 0.7828\n",
            "Epoch 46/50\n",
            "625/625 [==============================] - 8s 12ms/step - loss: 0.0235 - accuracy: 0.9905 - val_loss: 2.3162 - val_accuracy: 0.7816\n",
            "Epoch 47/50\n",
            "625/625 [==============================] - 8s 12ms/step - loss: 0.0241 - accuracy: 0.9898 - val_loss: 2.3164 - val_accuracy: 0.7858\n",
            "Epoch 48/50\n",
            "625/625 [==============================] - 8s 12ms/step - loss: 0.0150 - accuracy: 0.9934 - val_loss: 2.4318 - val_accuracy: 0.7863\n",
            "Epoch 49/50\n",
            "625/625 [==============================] - 7s 12ms/step - loss: 0.0176 - accuracy: 0.9920 - val_loss: 2.5040 - val_accuracy: 0.7894\n",
            "Epoch 50/50\n",
            "625/625 [==============================] - 8s 12ms/step - loss: 0.0228 - accuracy: 0.9900 - val_loss: 2.4379 - val_accuracy: 0.7901\n"
          ],
          "name": "stdout"
        }
      ]
    },
    {
      "cell_type": "code",
      "metadata": {
        "colab": {
          "base_uri": "https://localhost:8080/",
          "height": 542
        },
        "id": "lgy_X7WZMSb_",
        "outputId": "4c4c55cf-03d7-4d75-ff8f-4c56b1d71c31"
      },
      "source": [
        "import matplotlib.pyplot as plt\n",
        "\n",
        "\n",
        "def plot_graphs(history, string):\n",
        "  plt.plot(history.history[string])\n",
        "  plt.plot(history.history['val_'+string])\n",
        "  plt.xlabel(\"Epochs\")\n",
        "  plt.ylabel(string)\n",
        "  plt.legend([string, 'val_'+string])\n",
        "  plt.show()\n",
        "\n",
        "plot_graphs(history, 'accuracy')\n",
        "plot_graphs(history, 'loss')"
      ],
      "execution_count": 2,
      "outputs": [
        {
          "output_type": "display_data",
          "data": {
            "image/png": "[encoded data removed]",
            "text/plain": [
              "<Figure size 432x288 with 1 Axes>"
            ]
          },
          "metadata": {
            "tags": [],
            "needs_background": "light"
          }
        },
        {
          "output_type": "display_data",
          "data": {
            "image/png": "[encoded data removed]",
            "text/plain": [
              "<Figure size 432x288 with 1 Axes>"
            ]
          },
          "metadata": {
            "tags": [],
            "needs_background": "light"
          }
        }
      ]
    },
    {
      "cell_type": "code",
      "metadata": {
        "id": "w71jj_WvMT-f"
      },
      "source": [
        "model.save(\"test.h5\")"
      ],
      "execution_count": 3,
      "outputs": []
    },
    {
      "cell_type": "code",
      "metadata": {
        "id": "gPlc_cmgNtMS"
      },
      "source": [
        ""
      ],
      "execution_count": null,
      "outputs": []
    }
  ]
}