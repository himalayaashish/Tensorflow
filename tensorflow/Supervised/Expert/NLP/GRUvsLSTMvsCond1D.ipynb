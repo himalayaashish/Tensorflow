{
  "nbformat": 4,
  "nbformat_minor": 0,
  "metadata": {
    "colab": {
      "name": "GRUvsLSTMvsCond1D.ipynb",
      "provenance": []
    },
    "kernelspec": {
      "name": "python3",
      "display_name": "Python 3"
    },
    "language_info": {
      "name": "python"
    }
  },
  "cells": [
    {
      "cell_type": "code",
      "metadata": {
        "colab": {
          "base_uri": "https://localhost:8080/"
        },
        "id": "hBdwK_uDopUc",
        "outputId": "3bba9ee8-911e-433c-824f-c835300891a0"
      },
      "source": [
        "import tensorflow as tf\n",
        "print(tf.__version__)"
      ],
      "execution_count": 2,
      "outputs": [
        {
          "output_type": "stream",
          "text": [
            "2.4.1\n"
          ],
          "name": "stdout"
        }
      ]
    },
    {
      "cell_type": "code",
      "metadata": {
        "id": "hfO5deQQoux0"
      },
      "source": [
        "import tensorflow_datasets as tfds\n",
        "imdb, info = tfds.load(\"imdb_reviews\", with_info=True, as_supervised=True)"
      ],
      "execution_count": 3,
      "outputs": []
    },
    {
      "cell_type": "code",
      "metadata": {
        "id": "vP2IJjg6oxir"
      },
      "source": [
        "import numpy as np\n",
        "\n",
        "train_data, test_data = imdb['train'], imdb['test']\n",
        "\n",
        "training_sentences = []\n",
        "training_labels = []\n",
        "\n",
        "testing_sentences = []\n",
        "testing_labels = []\n",
        "\n",
        "# str(s.tonumpy()) is needed in Python3 instead of just s.numpy()\n",
        "for s,l in train_data:\n",
        "  training_sentences.append(str(s.numpy()))\n",
        "  training_labels.append(l.numpy())\n",
        "  \n",
        "for s,l in test_data:\n",
        "  testing_sentences.append(str(s.numpy()))\n",
        "  testing_labels.append(l.numpy())\n",
        "  \n",
        "training_labels_final = np.array(training_labels)\n",
        "testing_labels_final = np.array(testing_labels)\n"
      ],
      "execution_count": 4,
      "outputs": []
    },
    {
      "cell_type": "code",
      "metadata": {
        "id": "zsJNqUvJoz_x"
      },
      "source": [
        "vocab_size = 10000\n",
        "embedding_dim = 16\n",
        "max_length = 120\n",
        "trunc_type='post'\n",
        "oov_tok = \"<OOV>\"\n",
        "\n",
        "\n",
        "from tensorflow.keras.preprocessing.text import Tokenizer\n",
        "from tensorflow.keras.preprocessing.sequence import pad_sequences\n",
        "\n",
        "tokenizer = Tokenizer(num_words = vocab_size, oov_token=oov_tok)\n",
        "tokenizer.fit_on_texts(training_sentences)\n",
        "word_index = tokenizer.word_index\n",
        "sequences = tokenizer.texts_to_sequences(training_sentences)\n",
        "padded = pad_sequences(sequences,maxlen=max_length, truncating=trunc_type)\n",
        "\n",
        "testing_sequences = tokenizer.texts_to_sequences(testing_sentences)\n",
        "testing_padded = pad_sequences(testing_sequences,maxlen=max_length)\n"
      ],
      "execution_count": 5,
      "outputs": []
    },
    {
      "cell_type": "code",
      "metadata": {
        "colab": {
          "base_uri": "https://localhost:8080/"
        },
        "id": "L3vDPZQgo2md",
        "outputId": "9193f41d-364b-4f2c-f18a-3bf0e8769138"
      },
      "source": [
        "reverse_word_index = dict([(value, key) for (key, value) in word_index.items()])\n",
        "\n",
        "def decode_review(text):\n",
        "    return ' '.join([reverse_word_index.get(i, '?') for i in text])\n",
        "\n",
        "print(decode_review(padded[1]))\n",
        "print(training_sentences[1])"
      ],
      "execution_count": 6,
      "outputs": [
        {
          "output_type": "stream",
          "text": [
            "? ? ? ? ? ? ? b'i have been known to fall asleep during films but this is usually due to a combination of things including really tired being warm and comfortable on the <OOV> and having just eaten a lot however on this occasion i fell asleep because the film was rubbish the plot development was constant constantly slow and boring things seemed to happen but with no explanation of what was causing them or why i admit i may have missed part of the film but i watched the majority of it and everything just seemed to happen of its own <OOV> without any real concern for anything else i cant recommend this film at all '\n",
            "b'I have been known to fall asleep during films, but this is usually due to a combination of things including, really tired, being warm and comfortable on the sette and having just eaten a lot. However on this occasion I fell asleep because the film was rubbish. The plot development was constant. Constantly slow and boring. Things seemed to happen, but with no explanation of what was causing them or why. I admit, I may have missed part of the film, but i watched the majority of it and everything just seemed to happen of its own accord without any real concern for anything else. I cant recommend this film at all.'\n"
          ],
          "name": "stdout"
        }
      ]
    },
    {
      "cell_type": "code",
      "metadata": {
        "colab": {
          "base_uri": "https://localhost:8080/"
        },
        "id": "OSwwgv4mo5Cx",
        "outputId": "c812d005-2c96-4fe1-e98b-06c6ee605775"
      },
      "source": [
        "model = tf.keras.Sequential([\n",
        "    tf.keras.layers.Embedding(vocab_size, embedding_dim, input_length=max_length),\n",
        "    tf.keras.layers.Bidirectional(tf.keras.layers.GRU(32)),\n",
        "    tf.keras.layers.Dense(6, activation='relu'),\n",
        "    tf.keras.layers.Dense(1, activation='sigmoid')\n",
        "])\n",
        "model.compile(loss='binary_crossentropy',optimizer='adam',metrics=['accuracy'])\n",
        "model.summary()"
      ],
      "execution_count": 7,
      "outputs": [
        {
          "output_type": "stream",
          "text": [
            "Model: \"sequential\"\n",
            "_________________________________________________________________\n",
            "Layer (type)                 Output Shape              Param #   \n",
            "=================================================================\n",
            "embedding (Embedding)        (None, 120, 16)           160000    \n",
            "_________________________________________________________________\n",
            "bidirectional (Bidirectional (None, 64)                9600      \n",
            "_________________________________________________________________\n",
            "dense (Dense)                (None, 6)                 390       \n",
            "_________________________________________________________________\n",
            "dense_1 (Dense)              (None, 1)                 7         \n",
            "=================================================================\n",
            "Total params: 169,997\n",
            "Trainable params: 169,997\n",
            "Non-trainable params: 0\n",
            "_________________________________________________________________\n"
          ],
          "name": "stdout"
        }
      ]
    },
    {
      "cell_type": "code",
      "metadata": {
        "colab": {
          "base_uri": "https://localhost:8080/"
        },
        "id": "h4QbxaW_o7YB",
        "outputId": "9892a2c2-7490-4623-b00d-4f6137d21c89"
      },
      "source": [
        "num_epochs = 50\n",
        "history = model.fit(padded, training_labels_final, epochs=num_epochs, validation_data=(testing_padded, testing_labels_final))"
      ],
      "execution_count": 8,
      "outputs": [
        {
          "output_type": "stream",
          "text": [
            "Epoch 1/50\n",
            "782/782 [==============================] - 76s 92ms/step - loss: 0.6351 - accuracy: 0.5841 - val_loss: 0.3702 - val_accuracy: 0.8403\n",
            "Epoch 2/50\n",
            "782/782 [==============================] - 72s 92ms/step - loss: 0.3063 - accuracy: 0.8748 - val_loss: 0.3752 - val_accuracy: 0.8449\n",
            "Epoch 3/50\n",
            "782/782 [==============================] - 72s 91ms/step - loss: 0.2275 - accuracy: 0.9144 - val_loss: 0.3726 - val_accuracy: 0.8413\n",
            "Epoch 4/50\n",
            "782/782 [==============================] - 72s 92ms/step - loss: 0.1805 - accuracy: 0.9324 - val_loss: 0.4624 - val_accuracy: 0.8292\n",
            "Epoch 5/50\n",
            "782/782 [==============================] - 72s 91ms/step - loss: 0.1338 - accuracy: 0.9537 - val_loss: 0.4727 - val_accuracy: 0.8235\n",
            "Epoch 6/50\n",
            "782/782 [==============================] - 71s 91ms/step - loss: 0.1047 - accuracy: 0.9648 - val_loss: 0.5550 - val_accuracy: 0.8174\n",
            "Epoch 7/50\n",
            "782/782 [==============================] - 71s 91ms/step - loss: 0.0771 - accuracy: 0.9747 - val_loss: 0.6082 - val_accuracy: 0.8223\n",
            "Epoch 8/50\n",
            "782/782 [==============================] - 72s 92ms/step - loss: 0.0612 - accuracy: 0.9798 - val_loss: 0.7087 - val_accuracy: 0.8163\n",
            "Epoch 9/50\n",
            "782/782 [==============================] - 72s 92ms/step - loss: 0.0551 - accuracy: 0.9808 - val_loss: 0.7368 - val_accuracy: 0.8133\n",
            "Epoch 10/50\n",
            "782/782 [==============================] - 72s 92ms/step - loss: 0.0399 - accuracy: 0.9875 - val_loss: 0.8585 - val_accuracy: 0.8112\n",
            "Epoch 11/50\n",
            "782/782 [==============================] - 71s 91ms/step - loss: 0.0368 - accuracy: 0.9882 - val_loss: 0.7986 - val_accuracy: 0.8156\n",
            "Epoch 12/50\n",
            "782/782 [==============================] - 71s 91ms/step - loss: 0.0326 - accuracy: 0.9891 - val_loss: 0.8874 - val_accuracy: 0.8160\n",
            "Epoch 13/50\n",
            "782/782 [==============================] - 71s 91ms/step - loss: 0.0188 - accuracy: 0.9947 - val_loss: 0.9595 - val_accuracy: 0.8161\n",
            "Epoch 14/50\n",
            "782/782 [==============================] - 71s 91ms/step - loss: 0.0161 - accuracy: 0.9949 - val_loss: 1.0489 - val_accuracy: 0.8148\n",
            "Epoch 15/50\n",
            "782/782 [==============================] - 72s 92ms/step - loss: 0.0136 - accuracy: 0.9954 - val_loss: 1.0422 - val_accuracy: 0.8104\n",
            "Epoch 16/50\n",
            "782/782 [==============================] - 72s 92ms/step - loss: 0.0134 - accuracy: 0.9955 - val_loss: 1.0627 - val_accuracy: 0.8100\n",
            "Epoch 17/50\n",
            "782/782 [==============================] - 72s 92ms/step - loss: 0.0125 - accuracy: 0.9960 - val_loss: 1.1056 - val_accuracy: 0.8092\n",
            "Epoch 18/50\n",
            "782/782 [==============================] - 72s 93ms/step - loss: 0.0250 - accuracy: 0.9922 - val_loss: 1.1151 - val_accuracy: 0.8095\n",
            "Epoch 19/50\n",
            "782/782 [==============================] - 72s 92ms/step - loss: 0.0055 - accuracy: 0.9986 - val_loss: 1.2448 - val_accuracy: 0.8018\n",
            "Epoch 20/50\n",
            "782/782 [==============================] - 72s 92ms/step - loss: 0.0043 - accuracy: 0.9991 - val_loss: 1.2694 - val_accuracy: 0.8127\n",
            "Epoch 21/50\n",
            "782/782 [==============================] - 72s 92ms/step - loss: 0.0087 - accuracy: 0.9971 - val_loss: 1.2011 - val_accuracy: 0.8082\n",
            "Epoch 22/50\n",
            "782/782 [==============================] - 71s 91ms/step - loss: 0.0042 - accuracy: 0.9985 - val_loss: 1.2434 - val_accuracy: 0.8137\n",
            "Epoch 23/50\n",
            "782/782 [==============================] - 72s 92ms/step - loss: 0.0129 - accuracy: 0.9959 - val_loss: 1.2953 - val_accuracy: 0.8098\n",
            "Epoch 24/50\n",
            "782/782 [==============================] - 72s 92ms/step - loss: 0.0024 - accuracy: 0.9994 - val_loss: 1.2767 - val_accuracy: 0.8092\n",
            "Epoch 25/50\n",
            "782/782 [==============================] - 72s 92ms/step - loss: 0.0067 - accuracy: 0.9978 - val_loss: 1.4149 - val_accuracy: 0.8077\n",
            "Epoch 26/50\n",
            "782/782 [==============================] - 71s 91ms/step - loss: 0.0069 - accuracy: 0.9979 - val_loss: 1.3635 - val_accuracy: 0.8072\n",
            "Epoch 27/50\n",
            "782/782 [==============================] - 71s 91ms/step - loss: 0.0080 - accuracy: 0.9972 - val_loss: 1.3818 - val_accuracy: 0.8078\n",
            "Epoch 28/50\n",
            "782/782 [==============================] - 71s 91ms/step - loss: 0.0074 - accuracy: 0.9978 - val_loss: 1.4200 - val_accuracy: 0.8101\n",
            "Epoch 29/50\n",
            "782/782 [==============================] - 72s 92ms/step - loss: 0.0019 - accuracy: 0.9995 - val_loss: 1.3985 - val_accuracy: 0.8080\n",
            "Epoch 30/50\n",
            "782/782 [==============================] - 73s 94ms/step - loss: 0.0054 - accuracy: 0.9981 - val_loss: 1.4404 - val_accuracy: 0.7997\n",
            "Epoch 31/50\n",
            "782/782 [==============================] - 74s 94ms/step - loss: 0.0043 - accuracy: 0.9986 - val_loss: 1.4760 - val_accuracy: 0.8130\n",
            "Epoch 32/50\n",
            "782/782 [==============================] - 72s 93ms/step - loss: 0.0016 - accuracy: 0.9996 - val_loss: 1.5822 - val_accuracy: 0.8074\n",
            "Epoch 33/50\n",
            "782/782 [==============================] - 73s 93ms/step - loss: 0.0035 - accuracy: 0.9988 - val_loss: 1.4622 - val_accuracy: 0.8122\n",
            "Epoch 34/50\n",
            "782/782 [==============================] - 73s 93ms/step - loss: 0.0044 - accuracy: 0.9988 - val_loss: 1.3894 - val_accuracy: 0.8082\n",
            "Epoch 35/50\n",
            "782/782 [==============================] - 73s 93ms/step - loss: 0.0038 - accuracy: 0.9986 - val_loss: 1.3860 - val_accuracy: 0.8052\n",
            "Epoch 36/50\n",
            "782/782 [==============================] - 74s 94ms/step - loss: 0.0013 - accuracy: 0.9996 - val_loss: 1.5834 - val_accuracy: 0.8105\n",
            "Epoch 37/50\n",
            "782/782 [==============================] - 73s 93ms/step - loss: 9.7787e-05 - accuracy: 1.0000 - val_loss: 1.6592 - val_accuracy: 0.8109\n",
            "Epoch 38/50\n",
            "782/782 [==============================] - 73s 94ms/step - loss: 4.0115e-05 - accuracy: 1.0000 - val_loss: 1.7081 - val_accuracy: 0.8115\n",
            "Epoch 39/50\n",
            "782/782 [==============================] - 73s 93ms/step - loss: 2.0507e-05 - accuracy: 1.0000 - val_loss: 1.7643 - val_accuracy: 0.8120\n",
            "Epoch 40/50\n",
            "782/782 [==============================] - 73s 94ms/step - loss: 1.4636e-05 - accuracy: 1.0000 - val_loss: 1.8233 - val_accuracy: 0.8120\n",
            "Epoch 41/50\n",
            "782/782 [==============================] - 72s 92ms/step - loss: 9.6775e-06 - accuracy: 1.0000 - val_loss: 1.8806 - val_accuracy: 0.8120\n",
            "Epoch 42/50\n",
            "782/782 [==============================] - 72s 92ms/step - loss: 6.5022e-06 - accuracy: 1.0000 - val_loss: 1.9455 - val_accuracy: 0.8121\n",
            "Epoch 43/50\n",
            "782/782 [==============================] - 73s 93ms/step - loss: 4.2933e-06 - accuracy: 1.0000 - val_loss: 2.0055 - val_accuracy: 0.8121\n",
            "Epoch 44/50\n",
            "782/782 [==============================] - 73s 94ms/step - loss: 2.8987e-06 - accuracy: 1.0000 - val_loss: 2.0703 - val_accuracy: 0.8118\n",
            "Epoch 45/50\n",
            "782/782 [==============================] - 72s 92ms/step - loss: 1.8954e-06 - accuracy: 1.0000 - val_loss: 2.1381 - val_accuracy: 0.8117\n",
            "Epoch 46/50\n",
            "782/782 [==============================] - 72s 92ms/step - loss: 1.2242e-06 - accuracy: 1.0000 - val_loss: 2.2012 - val_accuracy: 0.8119\n",
            "Epoch 47/50\n",
            "782/782 [==============================] - 72s 92ms/step - loss: 8.2161e-07 - accuracy: 1.0000 - val_loss: 2.2683 - val_accuracy: 0.8116\n",
            "Epoch 48/50\n",
            "782/782 [==============================] - 72s 93ms/step - loss: 5.5975e-07 - accuracy: 1.0000 - val_loss: 2.3380 - val_accuracy: 0.8115\n",
            "Epoch 49/50\n",
            "782/782 [==============================] - 73s 93ms/step - loss: 3.6841e-07 - accuracy: 1.0000 - val_loss: 2.4104 - val_accuracy: 0.8116\n",
            "Epoch 50/50\n",
            "782/782 [==============================] - 72s 92ms/step - loss: 2.2911e-07 - accuracy: 1.0000 - val_loss: 2.4753 - val_accuracy: 0.8112\n"
          ],
          "name": "stdout"
        }
      ]
    },
    {
      "cell_type": "code",
      "metadata": {
        "colab": {
          "base_uri": "https://localhost:8080/",
          "height": 541
        },
        "id": "0k46EWyeo9xG",
        "outputId": "55f00fae-f754-484a-fdd4-b1c65a6dcfb4"
      },
      "source": [
        "import matplotlib.pyplot as plt\n",
        "\n",
        "\n",
        "def plot_graphs(history, string):\n",
        "  plt.plot(history.history[string])\n",
        "  plt.plot(history.history['val_'+string])\n",
        "  plt.xlabel(\"Epochs\")\n",
        "  plt.ylabel(string)\n",
        "  plt.legend([string, 'val_'+string])\n",
        "  plt.show()\n",
        "\n",
        "plot_graphs(history, 'accuracy')\n",
        "plot_graphs(history, 'loss')"
      ],
      "execution_count": 9,
      "outputs": [
        {
          "output_type": "display_data",
          "data": {
            "image/png": "[encoded data removed]",
            "text/plain": [
              "<Figure size 432x288 with 1 Axes>"
            ]
          },
          "metadata": {
            "tags": [],
            "needs_background": "light"
          }
        },
        {
          "output_type": "display_data",
          "data": {
            "image/png": "[encoded data removed]",
            "text/plain": [
              "<Figure size 432x288 with 1 Axes>"
            ]
          },
          "metadata": {
            "tags": [],
            "needs_background": "light"
          }
        }
      ]
    },
    {
      "cell_type": "code",
      "metadata": {
        "colab": {
          "base_uri": "https://localhost:8080/"
        },
        "id": "DqeoRrf1pAN2",
        "outputId": "ec706e30-455d-4472-d9ca-acce7b9a1bc7"
      },
      "source": [
        "# Model Definition with LSTM\n",
        "model = tf.keras.Sequential([\n",
        "    tf.keras.layers.Embedding(vocab_size, embedding_dim, input_length=max_length),\n",
        "    tf.keras.layers.Bidirectional(tf.keras.layers.LSTM(32)),\n",
        "    tf.keras.layers.Dense(6, activation='relu'),\n",
        "    tf.keras.layers.Dense(1, activation='sigmoid')\n",
        "])\n",
        "model.compile(loss='binary_crossentropy',optimizer='adam',metrics=['accuracy'])\n",
        "model.summary()"
      ],
      "execution_count": 10,
      "outputs": [
        {
          "output_type": "stream",
          "text": [
            "Model: \"sequential_1\"\n",
            "_________________________________________________________________\n",
            "Layer (type)                 Output Shape              Param #   \n",
            "=================================================================\n",
            "embedding_1 (Embedding)      (None, 120, 16)           160000    \n",
            "_________________________________________________________________\n",
            "bidirectional_1 (Bidirection (None, 64)                12544     \n",
            "_________________________________________________________________\n",
            "dense_2 (Dense)              (None, 6)                 390       \n",
            "_________________________________________________________________\n",
            "dense_3 (Dense)              (None, 1)                 7         \n",
            "=================================================================\n",
            "Total params: 172,941\n",
            "Trainable params: 172,941\n",
            "Non-trainable params: 0\n",
            "_________________________________________________________________\n"
          ],
          "name": "stdout"
        }
      ]
    },
    {
      "cell_type": "code",
      "metadata": {
        "colab": {
          "base_uri": "https://localhost:8080/"
        },
        "id": "qFpmrmy8pRC7",
        "outputId": "857d115e-494c-44f6-c5e6-d61891a83423"
      },
      "source": [
        "num_epochs = 50\n",
        "history = model.fit(padded, training_labels_final, epochs=num_epochs, validation_data=(testing_padded, testing_labels_final))"
      ],
      "execution_count": 11,
      "outputs": [
        {
          "output_type": "stream",
          "text": [
            "Epoch 1/50\n",
            "782/782 [==============================] - 73s 89ms/step - loss: 0.5683 - accuracy: 0.6709 - val_loss: 0.3622 - val_accuracy: 0.8390\n",
            "Epoch 2/50\n",
            "782/782 [==============================] - 68s 87ms/step - loss: 0.2847 - accuracy: 0.8897 - val_loss: 0.3715 - val_accuracy: 0.8455\n",
            "Epoch 3/50\n",
            "782/782 [==============================] - 68s 87ms/step - loss: 0.2277 - accuracy: 0.9135 - val_loss: 0.4105 - val_accuracy: 0.8260\n",
            "Epoch 4/50\n",
            "782/782 [==============================] - 68s 87ms/step - loss: 0.1844 - accuracy: 0.9340 - val_loss: 0.4675 - val_accuracy: 0.8337\n",
            "Epoch 5/50\n",
            "782/782 [==============================] - 68s 87ms/step - loss: 0.1368 - accuracy: 0.9523 - val_loss: 0.4617 - val_accuracy: 0.8294\n",
            "Epoch 6/50\n",
            "782/782 [==============================] - 68s 87ms/step - loss: 0.0977 - accuracy: 0.9668 - val_loss: 0.5369 - val_accuracy: 0.8253\n",
            "Epoch 7/50\n",
            "782/782 [==============================] - 68s 87ms/step - loss: 0.0607 - accuracy: 0.9801 - val_loss: 0.6790 - val_accuracy: 0.8210\n",
            "Epoch 8/50\n",
            "782/782 [==============================] - 68s 87ms/step - loss: 0.0439 - accuracy: 0.9852 - val_loss: 0.7180 - val_accuracy: 0.8198\n",
            "Epoch 9/50\n",
            "782/782 [==============================] - 68s 87ms/step - loss: 0.0366 - accuracy: 0.9882 - val_loss: 0.6937 - val_accuracy: 0.8173\n",
            "Epoch 10/50\n",
            "782/782 [==============================] - 68s 87ms/step - loss: 0.0256 - accuracy: 0.9918 - val_loss: 0.8448 - val_accuracy: 0.8141\n",
            "Epoch 11/50\n",
            "782/782 [==============================] - 68s 87ms/step - loss: 0.0237 - accuracy: 0.9930 - val_loss: 0.9169 - val_accuracy: 0.8189\n",
            "Epoch 12/50\n",
            "782/782 [==============================] - 68s 87ms/step - loss: 0.0229 - accuracy: 0.9919 - val_loss: 0.9324 - val_accuracy: 0.8111\n",
            "Epoch 13/50\n",
            "782/782 [==============================] - 68s 87ms/step - loss: 0.0108 - accuracy: 0.9963 - val_loss: 1.0354 - val_accuracy: 0.8147\n",
            "Epoch 14/50\n",
            "782/782 [==============================] - 68s 87ms/step - loss: 0.0181 - accuracy: 0.9950 - val_loss: 0.9627 - val_accuracy: 0.8154\n",
            "Epoch 15/50\n",
            "782/782 [==============================] - 68s 87ms/step - loss: 0.0177 - accuracy: 0.9940 - val_loss: 1.0077 - val_accuracy: 0.8166\n",
            "Epoch 16/50\n",
            "782/782 [==============================] - 68s 87ms/step - loss: 0.0070 - accuracy: 0.9981 - val_loss: 1.1376 - val_accuracy: 0.8040\n",
            "Epoch 17/50\n",
            "782/782 [==============================] - 69s 88ms/step - loss: 0.0178 - accuracy: 0.9951 - val_loss: 1.1643 - val_accuracy: 0.8199\n",
            "Epoch 18/50\n",
            "782/782 [==============================] - 68s 87ms/step - loss: 0.0092 - accuracy: 0.9975 - val_loss: 1.2484 - val_accuracy: 0.8133\n",
            "Epoch 19/50\n",
            "782/782 [==============================] - 69s 88ms/step - loss: 0.0141 - accuracy: 0.9953 - val_loss: 1.1176 - val_accuracy: 0.8201\n",
            "Epoch 20/50\n",
            "782/782 [==============================] - 68s 87ms/step - loss: 0.0062 - accuracy: 0.9982 - val_loss: 1.0645 - val_accuracy: 0.8183\n",
            "Epoch 21/50\n",
            "782/782 [==============================] - 68s 87ms/step - loss: 0.0039 - accuracy: 0.9990 - val_loss: 1.2033 - val_accuracy: 0.8020\n",
            "Epoch 22/50\n",
            "782/782 [==============================] - 68s 87ms/step - loss: 0.0109 - accuracy: 0.9967 - val_loss: 1.1693 - val_accuracy: 0.8016\n",
            "Epoch 23/50\n",
            "782/782 [==============================] - 68s 88ms/step - loss: 0.0089 - accuracy: 0.9972 - val_loss: 1.2925 - val_accuracy: 0.8199\n",
            "Epoch 24/50\n",
            "782/782 [==============================] - 68s 88ms/step - loss: 0.0029 - accuracy: 0.9990 - val_loss: 1.3117 - val_accuracy: 0.8014\n",
            "Epoch 25/50\n",
            "782/782 [==============================] - 69s 88ms/step - loss: 0.0126 - accuracy: 0.9958 - val_loss: 1.1007 - val_accuracy: 0.8202\n",
            "Epoch 26/50\n",
            "782/782 [==============================] - 68s 87ms/step - loss: 0.0048 - accuracy: 0.9984 - val_loss: 1.1275 - val_accuracy: 0.8116\n",
            "Epoch 27/50\n",
            "782/782 [==============================] - 69s 88ms/step - loss: 0.0059 - accuracy: 0.9983 - val_loss: 1.2391 - val_accuracy: 0.8177\n",
            "Epoch 28/50\n",
            "782/782 [==============================] - 68s 88ms/step - loss: 0.0047 - accuracy: 0.9986 - val_loss: 1.1493 - val_accuracy: 0.8137\n",
            "Epoch 29/50\n",
            "782/782 [==============================] - 68s 87ms/step - loss: 0.0070 - accuracy: 0.9979 - val_loss: 1.1675 - val_accuracy: 0.8170\n",
            "Epoch 30/50\n",
            "782/782 [==============================] - 69s 88ms/step - loss: 0.0063 - accuracy: 0.9981 - val_loss: 1.1757 - val_accuracy: 0.8116\n",
            "Epoch 31/50\n",
            "782/782 [==============================] - 68s 87ms/step - loss: 0.0018 - accuracy: 0.9996 - val_loss: 1.3390 - val_accuracy: 0.8087\n",
            "Epoch 32/50\n",
            "782/782 [==============================] - 69s 88ms/step - loss: 0.0063 - accuracy: 0.9981 - val_loss: 1.2893 - val_accuracy: 0.8136\n",
            "Epoch 33/50\n",
            "782/782 [==============================] - 69s 88ms/step - loss: 0.0094 - accuracy: 0.9964 - val_loss: 1.3314 - val_accuracy: 0.8169\n",
            "Epoch 34/50\n",
            "782/782 [==============================] - 68s 87ms/step - loss: 0.0084 - accuracy: 0.9973 - val_loss: 1.2388 - val_accuracy: 0.8110\n",
            "Epoch 35/50\n",
            "782/782 [==============================] - 69s 88ms/step - loss: 0.0024 - accuracy: 0.9990 - val_loss: 1.3415 - val_accuracy: 0.8159\n",
            "Epoch 36/50\n",
            "782/782 [==============================] - 68s 88ms/step - loss: 0.0033 - accuracy: 0.9992 - val_loss: 1.2164 - val_accuracy: 0.8182\n",
            "Epoch 37/50\n",
            "782/782 [==============================] - 69s 88ms/step - loss: 0.0018 - accuracy: 0.9995 - val_loss: 1.2717 - val_accuracy: 0.8150\n",
            "Epoch 38/50\n",
            "782/782 [==============================] - 69s 88ms/step - loss: 2.2592e-04 - accuracy: 1.0000 - val_loss: 1.3817 - val_accuracy: 0.8180\n",
            "Epoch 39/50\n",
            "782/782 [==============================] - 69s 88ms/step - loss: 4.3839e-05 - accuracy: 1.0000 - val_loss: 1.4421 - val_accuracy: 0.8186\n",
            "Epoch 40/50\n",
            "782/782 [==============================] - 69s 88ms/step - loss: 2.9571e-05 - accuracy: 1.0000 - val_loss: 1.5010 - val_accuracy: 0.8184\n",
            "Epoch 41/50\n",
            "782/782 [==============================] - 69s 88ms/step - loss: 1.8786e-05 - accuracy: 1.0000 - val_loss: 1.5585 - val_accuracy: 0.8191\n",
            "Epoch 42/50\n",
            "782/782 [==============================] - 68s 87ms/step - loss: 1.2472e-05 - accuracy: 1.0000 - val_loss: 1.6155 - val_accuracy: 0.8183\n",
            "Epoch 43/50\n",
            "782/782 [==============================] - 68s 87ms/step - loss: 8.5560e-06 - accuracy: 1.0000 - val_loss: 1.6793 - val_accuracy: 0.8178\n",
            "Epoch 44/50\n",
            "782/782 [==============================] - 69s 88ms/step - loss: 6.0392e-06 - accuracy: 1.0000 - val_loss: 1.7309 - val_accuracy: 0.8177\n",
            "Epoch 45/50\n",
            "782/782 [==============================] - 68s 87ms/step - loss: 4.0515e-06 - accuracy: 1.0000 - val_loss: 1.7971 - val_accuracy: 0.8178\n",
            "Epoch 46/50\n",
            "782/782 [==============================] - 69s 88ms/step - loss: 2.6166e-06 - accuracy: 1.0000 - val_loss: 1.8574 - val_accuracy: 0.8179\n",
            "Epoch 47/50\n",
            "782/782 [==============================] - 68s 88ms/step - loss: 1.6803e-06 - accuracy: 1.0000 - val_loss: 1.9224 - val_accuracy: 0.8179\n",
            "Epoch 48/50\n",
            "782/782 [==============================] - 70s 90ms/step - loss: 1.0844e-06 - accuracy: 1.0000 - val_loss: 1.9811 - val_accuracy: 0.8177\n",
            "Epoch 49/50\n",
            "782/782 [==============================] - 69s 88ms/step - loss: 7.3810e-07 - accuracy: 1.0000 - val_loss: 2.0508 - val_accuracy: 0.8170\n",
            "Epoch 50/50\n",
            "782/782 [==============================] - 70s 89ms/step - loss: 4.7001e-07 - accuracy: 1.0000 - val_loss: 2.1104 - val_accuracy: 0.8172\n"
          ],
          "name": "stdout"
        }
      ]
    },
    {
      "cell_type": "code",
      "metadata": {
        "colab": {
          "base_uri": "https://localhost:8080/",
          "height": 541
        },
        "id": "M6qAlPq9pSoq",
        "outputId": "1f1527ce-6798-4726-aab7-3871a15761e5"
      },
      "source": [
        "import matplotlib.pyplot as plt\n",
        "\n",
        "\n",
        "def plot_graphs(history, string):\n",
        "  plt.plot(history.history[string])\n",
        "  plt.plot(history.history['val_'+string])\n",
        "  plt.xlabel(\"Epochs\")\n",
        "  plt.ylabel(string)\n",
        "  plt.legend([string, 'val_'+string])\n",
        "  plt.show()\n",
        "\n",
        "plot_graphs(history, 'accuracy')\n",
        "plot_graphs(history, 'loss')"
      ],
      "execution_count": 12,
      "outputs": [
        {
          "output_type": "display_data",
          "data": {
            "image/png": "[encoded data removed]",
            "text/plain": [
              "<Figure size 432x288 with 1 Axes>"
            ]
          },
          "metadata": {
            "tags": [],
            "needs_background": "light"
          }
        },
        {
          "output_type": "display_data",
          "data": {
            "image/png": "[encoded data removed]",
            "text/plain": [
              "<Figure size 432x288 with 1 Axes>"
            ]
          },
          "metadata": {
            "tags": [],
            "needs_background": "light"
          }
        }
      ]
    },
    {
      "cell_type": "code",
      "metadata": {
        "colab": {
          "base_uri": "https://localhost:8080/"
        },
        "id": "DWQoZX82pCox",
        "outputId": "628c9ab0-bf1c-4441-e89f-4e32dea16462"
      },
      "source": [
        "# Model Definition with Conv1D\n",
        "model = tf.keras.Sequential([\n",
        "    tf.keras.layers.Embedding(vocab_size, embedding_dim, input_length=max_length),\n",
        "    tf.keras.layers.Conv1D(128, 5, activation='relu'),\n",
        "    tf.keras.layers.GlobalAveragePooling1D(),\n",
        "    tf.keras.layers.Dense(6, activation='relu'),\n",
        "    tf.keras.layers.Dense(1, activation='sigmoid')\n",
        "])\n",
        "model.compile(loss='binary_crossentropy',optimizer='adam',metrics=['accuracy'])\n",
        "model.summary()\n"
      ],
      "execution_count": 13,
      "outputs": [
        {
          "output_type": "stream",
          "text": [
            "Model: \"sequential_2\"\n",
            "_________________________________________________________________\n",
            "Layer (type)                 Output Shape              Param #   \n",
            "=================================================================\n",
            "embedding_2 (Embedding)      (None, 120, 16)           160000    \n",
            "_________________________________________________________________\n",
            "conv1d (Conv1D)              (None, 116, 128)          10368     \n",
            "_________________________________________________________________\n",
            "global_average_pooling1d (Gl (None, 128)               0         \n",
            "_________________________________________________________________\n",
            "dense_4 (Dense)              (None, 6)                 774       \n",
            "_________________________________________________________________\n",
            "dense_5 (Dense)              (None, 1)                 7         \n",
            "=================================================================\n",
            "Total params: 171,149\n",
            "Trainable params: 171,149\n",
            "Non-trainable params: 0\n",
            "_________________________________________________________________\n"
          ],
          "name": "stdout"
        }
      ]
    },
    {
      "cell_type": "code",
      "metadata": {
        "colab": {
          "base_uri": "https://localhost:8080/"
        },
        "id": "TcC6PK6HpMdS",
        "outputId": "bdbf57c3-9e9e-49ff-d148-dbe9cae35d36"
      },
      "source": [
        "num_epochs = 50\n",
        "history = model.fit(padded, training_labels_final, epochs=num_epochs, validation_data=(testing_padded, testing_labels_final))"
      ],
      "execution_count": 14,
      "outputs": [
        {
          "output_type": "stream",
          "text": [
            "Epoch 1/50\n",
            "782/782 [==============================] - 13s 16ms/step - loss: 0.5269 - accuracy: 0.7194 - val_loss: 0.3490 - val_accuracy: 0.8498\n",
            "Epoch 2/50\n",
            "782/782 [==============================] - 12s 15ms/step - loss: 0.2661 - accuracy: 0.8942 - val_loss: 0.3522 - val_accuracy: 0.8478\n",
            "Epoch 3/50\n",
            "782/782 [==============================] - 12s 16ms/step - loss: 0.2113 - accuracy: 0.9223 - val_loss: 0.3964 - val_accuracy: 0.8315\n",
            "Epoch 4/50\n",
            "782/782 [==============================] - 12s 16ms/step - loss: 0.1692 - accuracy: 0.9383 - val_loss: 0.4133 - val_accuracy: 0.8297\n",
            "Epoch 5/50\n",
            "782/782 [==============================] - 12s 16ms/step - loss: 0.1305 - accuracy: 0.9579 - val_loss: 0.4900 - val_accuracy: 0.8245\n",
            "Epoch 6/50\n",
            "782/782 [==============================] - 12s 16ms/step - loss: 0.0969 - accuracy: 0.9708 - val_loss: 0.5370 - val_accuracy: 0.8166\n",
            "Epoch 7/50\n",
            "782/782 [==============================] - 13s 16ms/step - loss: 0.0794 - accuracy: 0.9780 - val_loss: 0.6546 - val_accuracy: 0.8147\n",
            "Epoch 8/50\n",
            "782/782 [==============================] - 13s 16ms/step - loss: 0.0629 - accuracy: 0.9833 - val_loss: 0.7541 - val_accuracy: 0.8116\n",
            "Epoch 9/50\n",
            "782/782 [==============================] - 13s 16ms/step - loss: 0.0469 - accuracy: 0.9876 - val_loss: 0.8193 - val_accuracy: 0.8094\n",
            "Epoch 10/50\n",
            "782/782 [==============================] - 13s 16ms/step - loss: 0.0384 - accuracy: 0.9903 - val_loss: 0.9574 - val_accuracy: 0.8068\n",
            "Epoch 11/50\n",
            "782/782 [==============================] - 13s 16ms/step - loss: 0.0246 - accuracy: 0.9938 - val_loss: 1.0900 - val_accuracy: 0.8061\n",
            "Epoch 12/50\n",
            "782/782 [==============================] - 13s 16ms/step - loss: 0.0216 - accuracy: 0.9936 - val_loss: 1.1711 - val_accuracy: 0.7980\n",
            "Epoch 13/50\n",
            "782/782 [==============================] - 14s 18ms/step - loss: 0.0179 - accuracy: 0.9949 - val_loss: 1.2759 - val_accuracy: 0.8038\n",
            "Epoch 14/50\n",
            "782/782 [==============================] - 13s 16ms/step - loss: 0.0143 - accuracy: 0.9954 - val_loss: 1.4181 - val_accuracy: 0.8002\n",
            "Epoch 15/50\n",
            "782/782 [==============================] - 13s 16ms/step - loss: 0.0091 - accuracy: 0.9971 - val_loss: 1.5494 - val_accuracy: 0.8007\n",
            "Epoch 16/50\n",
            "782/782 [==============================] - 13s 17ms/step - loss: 0.0070 - accuracy: 0.9981 - val_loss: 1.6408 - val_accuracy: 0.8040\n",
            "Epoch 17/50\n",
            "782/782 [==============================] - 12s 16ms/step - loss: 0.0048 - accuracy: 0.9990 - val_loss: 1.6496 - val_accuracy: 0.8036\n",
            "Epoch 18/50\n",
            "782/782 [==============================] - 13s 16ms/step - loss: 0.0134 - accuracy: 0.9954 - val_loss: 1.8106 - val_accuracy: 0.8001\n",
            "Epoch 19/50\n",
            "782/782 [==============================] - 13s 16ms/step - loss: 0.0103 - accuracy: 0.9965 - val_loss: 1.7005 - val_accuracy: 0.7924\n",
            "Epoch 20/50\n",
            "782/782 [==============================] - 13s 16ms/step - loss: 0.0054 - accuracy: 0.9984 - val_loss: 1.8211 - val_accuracy: 0.8012\n",
            "Epoch 21/50\n",
            "782/782 [==============================] - 13s 16ms/step - loss: 0.0024 - accuracy: 0.9992 - val_loss: 1.9412 - val_accuracy: 0.8017\n",
            "Epoch 22/50\n",
            "782/782 [==============================] - 13s 16ms/step - loss: 5.6252e-04 - accuracy: 1.0000 - val_loss: 2.0559 - val_accuracy: 0.8018\n",
            "Epoch 23/50\n",
            "782/782 [==============================] - 14s 17ms/step - loss: 1.6409e-04 - accuracy: 1.0000 - val_loss: 2.1242 - val_accuracy: 0.8019\n",
            "Epoch 24/50\n",
            "782/782 [==============================] - 13s 17ms/step - loss: 6.8970e-05 - accuracy: 1.0000 - val_loss: 2.1902 - val_accuracy: 0.8022\n",
            "Epoch 25/50\n",
            "782/782 [==============================] - 13s 16ms/step - loss: 4.1431e-05 - accuracy: 1.0000 - val_loss: 2.2554 - val_accuracy: 0.8023\n",
            "Epoch 26/50\n",
            "782/782 [==============================] - 13s 16ms/step - loss: 3.1121e-05 - accuracy: 1.0000 - val_loss: 2.3243 - val_accuracy: 0.8028\n",
            "Epoch 27/50\n",
            "782/782 [==============================] - 13s 16ms/step - loss: 2.2128e-05 - accuracy: 1.0000 - val_loss: 2.3938 - val_accuracy: 0.8030\n",
            "Epoch 28/50\n",
            "782/782 [==============================] - 13s 16ms/step - loss: 1.6246e-05 - accuracy: 1.0000 - val_loss: 2.4687 - val_accuracy: 0.8030\n",
            "Epoch 29/50\n",
            "782/782 [==============================] - 12s 16ms/step - loss: 9.9082e-06 - accuracy: 1.0000 - val_loss: 2.5440 - val_accuracy: 0.8027\n",
            "Epoch 30/50\n",
            "782/782 [==============================] - 13s 16ms/step - loss: 6.5490e-06 - accuracy: 1.0000 - val_loss: 2.6246 - val_accuracy: 0.8028\n",
            "Epoch 31/50\n",
            "782/782 [==============================] - 13s 16ms/step - loss: 4.7160e-06 - accuracy: 1.0000 - val_loss: 2.7095 - val_accuracy: 0.8034\n",
            "Epoch 32/50\n",
            "782/782 [==============================] - 13s 16ms/step - loss: 3.0670e-06 - accuracy: 1.0000 - val_loss: 2.7900 - val_accuracy: 0.8030\n",
            "Epoch 33/50\n",
            "782/782 [==============================] - 13s 16ms/step - loss: 1.9879e-06 - accuracy: 1.0000 - val_loss: 2.8759 - val_accuracy: 0.8027\n",
            "Epoch 34/50\n",
            "782/782 [==============================] - 13s 17ms/step - loss: 1.2829e-06 - accuracy: 1.0000 - val_loss: 2.9636 - val_accuracy: 0.8027\n",
            "Epoch 35/50\n",
            "782/782 [==============================] - 13s 16ms/step - loss: 9.3060e-07 - accuracy: 1.0000 - val_loss: 3.0497 - val_accuracy: 0.8032\n",
            "Epoch 36/50\n",
            "782/782 [==============================] - 13s 16ms/step - loss: 5.6666e-07 - accuracy: 1.0000 - val_loss: 3.1344 - val_accuracy: 0.8030\n",
            "Epoch 37/50\n",
            "782/782 [==============================] - 13s 17ms/step - loss: 3.8634e-07 - accuracy: 1.0000 - val_loss: 3.2170 - val_accuracy: 0.8026\n",
            "Epoch 38/50\n",
            "782/782 [==============================] - 13s 17ms/step - loss: 2.7520e-07 - accuracy: 1.0000 - val_loss: 3.3042 - val_accuracy: 0.8027\n",
            "Epoch 39/50\n",
            "782/782 [==============================] - 13s 16ms/step - loss: 1.8649e-07 - accuracy: 1.0000 - val_loss: 3.3927 - val_accuracy: 0.8035\n",
            "Epoch 40/50\n",
            "782/782 [==============================] - 13s 17ms/step - loss: 1.1991e-07 - accuracy: 1.0000 - val_loss: 3.4769 - val_accuracy: 0.8030\n",
            "Epoch 41/50\n",
            "782/782 [==============================] - 13s 17ms/step - loss: 7.7409e-08 - accuracy: 1.0000 - val_loss: 3.5573 - val_accuracy: 0.8028\n",
            "Epoch 42/50\n",
            "782/782 [==============================] - 13s 17ms/step - loss: 5.2898e-08 - accuracy: 1.0000 - val_loss: 3.6422 - val_accuracy: 0.8030\n",
            "Epoch 43/50\n",
            "782/782 [==============================] - 13s 17ms/step - loss: 3.6925e-08 - accuracy: 1.0000 - val_loss: 3.7172 - val_accuracy: 0.8032\n",
            "Epoch 44/50\n",
            "782/782 [==============================] - 13s 16ms/step - loss: 2.7760e-08 - accuracy: 1.0000 - val_loss: 3.7926 - val_accuracy: 0.8034\n",
            "Epoch 45/50\n",
            "782/782 [==============================] - 13s 17ms/step - loss: 1.8340e-08 - accuracy: 1.0000 - val_loss: 3.8695 - val_accuracy: 0.8036\n",
            "Epoch 46/50\n",
            "782/782 [==============================] - 13s 16ms/step - loss: 1.3829e-08 - accuracy: 1.0000 - val_loss: 3.9424 - val_accuracy: 0.8039\n",
            "Epoch 47/50\n",
            "782/782 [==============================] - 14s 17ms/step - loss: 1.0100e-08 - accuracy: 1.0000 - val_loss: 4.0036 - val_accuracy: 0.8036\n",
            "Epoch 48/50\n",
            "782/782 [==============================] - 13s 16ms/step - loss: 7.4701e-09 - accuracy: 1.0000 - val_loss: 4.0760 - val_accuracy: 0.8041\n",
            "Epoch 49/50\n",
            "782/782 [==============================] - 13s 16ms/step - loss: 6.0218e-09 - accuracy: 1.0000 - val_loss: 4.1312 - val_accuracy: 0.8039\n",
            "Epoch 50/50\n",
            "782/782 [==============================] - 13s 16ms/step - loss: 4.5511e-09 - accuracy: 1.0000 - val_loss: 4.1825 - val_accuracy: 0.8035\n"
          ],
          "name": "stdout"
        }
      ]
    },
    {
      "cell_type": "code",
      "metadata": {
        "colab": {
          "base_uri": "https://localhost:8080/",
          "height": 541
        },
        "id": "nNlwf2aKpF-e",
        "outputId": "be172aed-2c33-4dc6-83c3-e1f82b6f4a2b"
      },
      "source": [
        "import matplotlib.pyplot as plt\n",
        "\n",
        "\n",
        "def plot_graphs(history, string):\n",
        "  plt.plot(history.history[string])\n",
        "  plt.plot(history.history['val_'+string])\n",
        "  plt.xlabel(\"Epochs\")\n",
        "  plt.ylabel(string)\n",
        "  plt.legend([string, 'val_'+string])\n",
        "  plt.show()\n",
        "\n",
        "plot_graphs(history, 'accuracy')\n",
        "plot_graphs(history, 'loss')"
      ],
      "execution_count": 15,
      "outputs": [
        {
          "output_type": "display_data",
          "data": {
            "image/png": "[encoded data removed]",
            "text/plain": [
              "<Figure size 432x288 with 1 Axes>"
            ]
          },
          "metadata": {
            "tags": [],
            "needs_background": "light"
          }
        },
        {
          "output_type": "display_data",
          "data": {
            "image/png": "[encoded data removed]",
            "text/plain": [
              "<Figure size 432x288 with 1 Axes>"
            ]
          },
          "metadata": {
            "tags": [],
            "needs_background": "light"
          }
        }
      ]
    },
    {
      "cell_type": "code",
      "metadata": {
        "id": "-adVeQbJpeKA"
      },
      "source": [
        ""
      ],
      "execution_count": null,
      "outputs": []
    }
  ]
}